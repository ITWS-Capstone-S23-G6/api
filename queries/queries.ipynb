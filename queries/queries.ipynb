{
 "cells": [
  {
   "cell_type": "code",
   "execution_count": 11,
   "metadata": {},
   "outputs": [],
   "source": [
    "from neo4j import GraphDatabase\n",
    "import logging\n",
    "from neo4j.exceptions import ServiceUnavailable"
   ]
  },
  {
   "cell_type": "code",
   "execution_count": 26,
   "metadata": {},
   "outputs": [],
   "source": [
    "class App:\n",
    "\n",
    "    def __init__(self, uri, user, password):\n",
    "        self.user = user\n",
    "        self.driver = GraphDatabase.driver(uri, auth=(user, password))\n",
    "\n",
    "    def close(self):\n",
    "        # Don't forget to close the driver connection when you are finished with it\n",
    "        self.driver.close()\n",
    "    \n",
    "    @staticmethod\n",
    "    def _find_skill(tx, skill_name):\n",
    "        query = (\n",
    "            \"MATCH (s:Skill) \"\n",
    "            \"WHERE toLower(s.name) = toLower($SKILL_NAME) \"\n",
    "            \"RETURN s.name AS skill_name\"\n",
    "        )\n",
    "        result = tx.run(query, SKILL_NAME=skill_name)\n",
    "        return [row[\"skill_name\"] for row in result]\n",
    "\n",
    "    def find_skill(self, skill_name):\n",
    "        with self.driver.session(database=self.user) as session:\n",
    "            result = session.execute_read(self._find_skill, skill_name)\n",
    "            if len(result) == 0:\n",
    "                print(\"No results found\")\n",
    "                return False\n",
    "            else:\n",
    "                for row in result:\n",
    "                    print(\"Found skill: {row}\".format(row=row))\n",
    "                return True\n",
    "    \n",
    "    @staticmethod\n",
    "    def _create_skill(tx, skill_name):\n",
    "        query = (\n",
    "            \"MERGE (s:Skill { name: $SKILL_NAME })\"\n",
    "        )\n",
    "        result = tx.run(query, SKILL_NAME=skill_name)\n",
    "        # print(result)\n",
    "\n",
    "    @staticmethod\n",
    "    def _create_skill_relation(tx, skill0_name, skill1_name):\n",
    "        query = (\n",
    "            \"MATCH (s0: Skill), (s1: Skill) \"\n",
    "            \"WHERE toLower(s0.name) = toLower($SKILL0) AND toLower(s1.name) = toLower($SKILL1) \"\n",
    "            \"AND s0.attr is NULL AND s1.attr is NULL \"\n",
    "            \"MERGE  (s0)-[:CONTAINS_SKILL]->(s1) \"\n",
    "            \"RETURN s0, s1\"\n",
    "        )\n",
    "        result = tx.run(query, SKILL0=skill0_name, SKILL1=skill1_name)\n",
    "        try:\n",
    "            return [{\"s0\": row[\"s0\"][\"name\"], \"s1\": row[\"s1\"][\"name\"]}\n",
    "                    for row in result]\n",
    "        # Capture any errors along with the query and data for traceability\n",
    "        except ServiceUnavailable as exception:\n",
    "            logging.error(\"{query} raised an error: \\n {exception}\".format(\n",
    "                query=query, exception=exception))\n",
    "            raise\n",
    "    \n",
    "    def addToSkillTree(self, parentSkill: str, childSkill: str):\n",
    "\n",
    "        with self.driver.session(database=self.user) as session:\n",
    "            session.execute_write(self._create_skill, parentSkill)\n",
    "            session.execute_write(self._create_skill, childSkill)\n",
    "            session.execute_write(self._create_skill_relation, parentSkill, childSkill)\n",
    "\n",
    "    def create_skill_tree(self, skill_json: dict, parentSkill=None):\n",
    "        for currentSkill, value in skill_json.items():\n",
    "        # print the current key-value pair with appropriate indentation\n",
    "            if parentSkill is not None:\n",
    "                print(parentSkill, currentSkill)\n",
    "                # add the current key-value pair to the skill tree\n",
    "                self.addToSkillTree(parentSkill, childSkill=currentSkill)\n",
    "                \n",
    "            if isinstance(value, dict):\n",
    "                # if the value is a nested dictionary, recursively print it out with increased indentation\n",
    "                # print('')\n",
    "                self.create_skill_tree(value, parentSkill=currentSkill)\n",
    "            else:\n",
    "                # otherwise, print the value\n",
    "                print(value)\n",
    "\n",
    "\n",
    "\n"
   ]
  },
  {
   "cell_type": "code",
   "execution_count": 27,
   "metadata": {},
   "outputs": [],
   "source": [
    "uri = \"neo4j+s://f9f049f6.databases.neo4j.io\"\n",
    "user = \"neo4j\"\n",
    "password = \"MPPvraZHeQtIOymDIYIGlINLjNq_fn6iswgM6GY2HAQ\"\n",
    "app = App(uri, user, password)"
   ]
  },
  {
   "cell_type": "code",
   "execution_count": null,
   "metadata": {},
   "outputs": [],
   "source": [
    "app.find_skill(\"JavaScript\")"
   ]
  },
  {
   "cell_type": "code",
   "execution_count": 24,
   "metadata": {},
   "outputs": [],
   "source": [
    "import json\n",
    "\n",
    "with open('skillTree.json', 'r') as skillTreeFile:\n",
    "    data = json.load(skillTreeFile)"
   ]
  },
  {
   "cell_type": "code",
   "execution_count": null,
   "metadata": {},
   "outputs": [],
   "source": [
    "def print_json(data, parentKey):\n",
    "\n",
    "    for key, value in data.items():\n",
    "        # print the current key-value pair with appropriate indentation\n",
    "        if len(parentKey) != 0:\n",
    "            print(parentKey, key)\n",
    "            \n",
    "        if isinstance(value, dict):\n",
    "            # if the value is a nested dictionary, recursively print it out with increased indentation\n",
    "            # print('')\n",
    "            print_json(value, parentKey=key)\n",
    "        else:\n",
    "            # otherwise, print the value\n",
    "            print(value)\n",
    "\n",
    "# call the function on the loaded JSON data\n",
    "print_json(data, parentKey='')"
   ]
  },
  {
   "cell_type": "code",
   "execution_count": null,
   "metadata": {},
   "outputs": [],
   "source": [
    "app.create_skill_tree(skill_json=data, parentSkill=None)\n",
    "app.close()"
   ]
  }
 ],
 "metadata": {
  "kernelspec": {
   "display_name": "MLDS_ARM64",
   "language": "python",
   "name": "python3"
  },
  "language_info": {
   "codemirror_mode": {
    "name": "ipython",
    "version": 3
   },
   "file_extension": ".py",
   "mimetype": "text/x-python",
   "name": "python",
   "nbconvert_exporter": "python",
   "pygments_lexer": "ipython3",
   "version": "3.10.9"
  },
  "orig_nbformat": 4
 },
 "nbformat": 4,
 "nbformat_minor": 2
}
